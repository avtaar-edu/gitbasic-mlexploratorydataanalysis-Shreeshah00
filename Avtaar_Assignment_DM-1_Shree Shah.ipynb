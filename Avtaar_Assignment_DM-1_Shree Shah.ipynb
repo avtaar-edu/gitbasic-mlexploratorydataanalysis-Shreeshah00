{
 "cells": [
  {
   "cell_type": "code",
   "execution_count": 176,
   "metadata": {},
   "outputs": [],
   "source": [
    "from urllib.request import urlopen\n",
    "from bs4 import BeautifulSoup\n",
    "import pandas as pd\n"
   ]
  },
  {
   "cell_type": "code",
   "execution_count": 177,
   "metadata": {},
   "outputs": [],
   "source": [
    "def Movie_detail(url):\n",
    "    # reading the url\n",
    "    source = urlopen(url).read()\n",
    "    # Make a soup \n",
    "    soup = BeautifulSoup(source,'lxml')\n",
    "    \n",
    "    # taking movie name from the title tag of html code\n",
    "    Movie_name=soup.title.string\n",
    "    print(Movie_name)\n",
    "    \n",
    "    # creating movie name dataframe\n",
    "    movie={'Question':'Movie name', 'Detail':Movie_name.replace('- Wikipedia','')}\n",
    "    \n",
    "    #extracting the table with data\n",
    "    table = soup.find('table',{'class':\"infobox vevent\"})\n",
    "    \n",
    "    # reading data into string\n",
    "    df = pd.read_html(str(table))\n",
    "    \n",
    "    # making dataframe from string\n",
    "    data=pd.DataFrame(df[0])\n",
    "    \n",
    "    # to show whole data of dataframe\n",
    "    pd.set_option('display.max_colwidth', -1)\n",
    "    \n",
    "    # renaming the column name of data\n",
    "    data.columns = ['Question', 'Detail']\n",
    "    \n",
    "    # appending movie dictionary in main dataframe\n",
    "    data = data.append(movie, ignore_index=True)\n",
    "    \n",
    "    #changing the index of dataframe to Question\n",
    "    data = data.set_index('Question')\n",
    "    \n",
    "    # changin the row to column\n",
    "    data =data.T\n",
    "    \n",
    "    # keeping only required data\n",
    "    data = data[['Movie name','Directed by','Release date','Box office','Starring' ]]\n",
    "    \n",
    "    # giving the name as per question\n",
    "    data.columns = ['The movie name','Director','Year of release','Overall gross earning',' The cast']\n",
    "\n",
    "    return data"
   ]
  },
  {
   "cell_type": "markdown",
   "metadata": {},
   "source": [
    "## 1 Movie : five feet apart"
   ]
  },
  {
   "cell_type": "code",
   "execution_count": 178,
   "metadata": {},
   "outputs": [
    {
     "name": "stdout",
     "output_type": "stream",
     "text": [
      "Five Feet Apart - Wikipedia\n"
     ]
    },
    {
     "name": "stderr",
     "output_type": "stream",
     "text": [
      "<ipython-input-177-f70fe5ad6b78>:24: FutureWarning: Passing a negative integer is deprecated in version 1.0 and will not be supported in future version. Instead, use None to not limit the column width.\n",
      "  pd.set_option('display.max_colwidth', -1)\n"
     ]
    },
    {
     "data": {
      "text/html": [
       "<div>\n",
       "<style scoped>\n",
       "    .dataframe tbody tr th:only-of-type {\n",
       "        vertical-align: middle;\n",
       "    }\n",
       "\n",
       "    .dataframe tbody tr th {\n",
       "        vertical-align: top;\n",
       "    }\n",
       "\n",
       "    .dataframe thead th {\n",
       "        text-align: right;\n",
       "    }\n",
       "</style>\n",
       "<table border=\"1\" class=\"dataframe\">\n",
       "  <thead>\n",
       "    <tr style=\"text-align: right;\">\n",
       "      <th></th>\n",
       "      <th>The movie name</th>\n",
       "      <th>Director</th>\n",
       "      <th>Year of release</th>\n",
       "      <th>Overall gross earning</th>\n",
       "      <th>The cast</th>\n",
       "    </tr>\n",
       "  </thead>\n",
       "  <tbody>\n",
       "    <tr>\n",
       "      <th>Detail</th>\n",
       "      <td>Five Feet Apart</td>\n",
       "      <td>Justin Baldoni</td>\n",
       "      <td>March 15, 2019</td>\n",
       "      <td>$91.5 million[4]</td>\n",
       "      <td>Haley Lu Richardson Cole Sprouse Moisés Arias</td>\n",
       "    </tr>\n",
       "  </tbody>\n",
       "</table>\n",
       "</div>"
      ],
      "text/plain": [
       "          The movie name        Director Year of release  \\\n",
       "Detail  Five Feet Apart   Justin Baldoni  March 15, 2019   \n",
       "\n",
       "       Overall gross earning                                       The cast  \n",
       "Detail  $91.5 million[4]      Haley Lu Richardson Cole Sprouse Moisés Arias  "
      ]
     },
     "execution_count": 178,
     "metadata": {},
     "output_type": "execute_result"
    }
   ],
   "source": [
    "Movie_detail('https://en.wikipedia.org/wiki/Five_Feet_Apart')"
   ]
  },
  {
   "cell_type": "markdown",
   "metadata": {},
   "source": [
    "## 2 Movie : The_Intern_(2015_film)"
   ]
  },
  {
   "cell_type": "code",
   "execution_count": 179,
   "metadata": {},
   "outputs": [
    {
     "name": "stdout",
     "output_type": "stream",
     "text": [
      "The Intern (2015 film) - Wikipedia\n"
     ]
    },
    {
     "name": "stderr",
     "output_type": "stream",
     "text": [
      "<ipython-input-177-f70fe5ad6b78>:24: FutureWarning: Passing a negative integer is deprecated in version 1.0 and will not be supported in future version. Instead, use None to not limit the column width.\n",
      "  pd.set_option('display.max_colwidth', -1)\n"
     ]
    },
    {
     "data": {
      "text/html": [
       "<div>\n",
       "<style scoped>\n",
       "    .dataframe tbody tr th:only-of-type {\n",
       "        vertical-align: middle;\n",
       "    }\n",
       "\n",
       "    .dataframe tbody tr th {\n",
       "        vertical-align: top;\n",
       "    }\n",
       "\n",
       "    .dataframe thead th {\n",
       "        text-align: right;\n",
       "    }\n",
       "</style>\n",
       "<table border=\"1\" class=\"dataframe\">\n",
       "  <thead>\n",
       "    <tr style=\"text-align: right;\">\n",
       "      <th></th>\n",
       "      <th>The movie name</th>\n",
       "      <th>Director</th>\n",
       "      <th>Year of release</th>\n",
       "      <th>Overall gross earning</th>\n",
       "      <th>The cast</th>\n",
       "    </tr>\n",
       "  </thead>\n",
       "  <tbody>\n",
       "    <tr>\n",
       "      <th>Detail</th>\n",
       "      <td>The Intern (2015 film)</td>\n",
       "      <td>Nancy Meyers</td>\n",
       "      <td>September 15, 2015Belgium) September 25, 2015</td>\n",
       "      <td>$194.6 million[1]</td>\n",
       "      <td>Robert De Niro Anne Hathaway Rene Russo</td>\n",
       "    </tr>\n",
       "  </tbody>\n",
       "</table>\n",
       "</div>"
      ],
      "text/plain": [
       "                 The movie name      Director  \\\n",
       "Detail  The Intern (2015 film)   Nancy Meyers   \n",
       "\n",
       "                                      Year of release Overall gross earning  \\\n",
       "Detail  September 15, 2015Belgium) September 25, 2015  $194.6 million[1]      \n",
       "\n",
       "                                       The cast  \n",
       "Detail  Robert De Niro Anne Hathaway Rene Russo  "
      ]
     },
     "execution_count": 179,
     "metadata": {},
     "output_type": "execute_result"
    }
   ],
   "source": [
    "Movie_detail('https://en.wikipedia.org/wiki/The_Intern_(2015_film)')"
   ]
  },
  {
   "cell_type": "markdown",
   "metadata": {},
   "source": [
    "## 3 Movie : Joker(2019 film)"
   ]
  },
  {
   "cell_type": "code",
   "execution_count": 180,
   "metadata": {},
   "outputs": [
    {
     "name": "stdout",
     "output_type": "stream",
     "text": [
      "Joker (2019 film) - Wikipedia\n"
     ]
    },
    {
     "name": "stderr",
     "output_type": "stream",
     "text": [
      "<ipython-input-177-f70fe5ad6b78>:24: FutureWarning: Passing a negative integer is deprecated in version 1.0 and will not be supported in future version. Instead, use None to not limit the column width.\n",
      "  pd.set_option('display.max_colwidth', -1)\n"
     ]
    },
    {
     "data": {
      "text/html": [
       "<div>\n",
       "<style scoped>\n",
       "    .dataframe tbody tr th:only-of-type {\n",
       "        vertical-align: middle;\n",
       "    }\n",
       "\n",
       "    .dataframe tbody tr th {\n",
       "        vertical-align: top;\n",
       "    }\n",
       "\n",
       "    .dataframe thead th {\n",
       "        text-align: right;\n",
       "    }\n",
       "</style>\n",
       "<table border=\"1\" class=\"dataframe\">\n",
       "  <thead>\n",
       "    <tr style=\"text-align: right;\">\n",
       "      <th></th>\n",
       "      <th>The movie name</th>\n",
       "      <th>Director</th>\n",
       "      <th>Year of release</th>\n",
       "      <th>Overall gross earning</th>\n",
       "      <th>The cast</th>\n",
       "    </tr>\n",
       "  </thead>\n",
       "  <tbody>\n",
       "    <tr>\n",
       "      <th>Detail</th>\n",
       "      <td>Joker (2019 film)</td>\n",
       "      <td>Todd Phillips</td>\n",
       "      <td>August 31, 2019Venice) October 4, 2019</td>\n",
       "      <td>$1.074 billion[4][5]</td>\n",
       "      <td>Joaquin Phoenix Robert De Niro Zazie Beetz Frances Conroy</td>\n",
       "    </tr>\n",
       "  </tbody>\n",
       "</table>\n",
       "</div>"
      ],
      "text/plain": [
       "            The movie name       Director  \\\n",
       "Detail  Joker (2019 film)   Todd Phillips   \n",
       "\n",
       "                               Year of release Overall gross earning  \\\n",
       "Detail  August 31, 2019Venice) October 4, 2019  $1.074 billion[4][5]   \n",
       "\n",
       "                                                         The cast  \n",
       "Detail  Joaquin Phoenix Robert De Niro Zazie Beetz Frances Conroy  "
      ]
     },
     "execution_count": 180,
     "metadata": {},
     "output_type": "execute_result"
    }
   ],
   "source": [
    "Movie_detail('https://en.wikipedia.org/wiki/Joker_(2019_film)')"
   ]
  },
  {
   "cell_type": "markdown",
   "metadata": {},
   "source": [
    "## 4 Movie : Zindagi Na Milegi Dobara"
   ]
  },
  {
   "cell_type": "code",
   "execution_count": 181,
   "metadata": {},
   "outputs": [
    {
     "name": "stdout",
     "output_type": "stream",
     "text": [
      "Zindagi Na Milegi Dobara - Wikipedia\n"
     ]
    },
    {
     "name": "stderr",
     "output_type": "stream",
     "text": [
      "<ipython-input-177-f70fe5ad6b78>:24: FutureWarning: Passing a negative integer is deprecated in version 1.0 and will not be supported in future version. Instead, use None to not limit the column width.\n",
      "  pd.set_option('display.max_colwidth', -1)\n"
     ]
    },
    {
     "data": {
      "text/html": [
       "<div>\n",
       "<style scoped>\n",
       "    .dataframe tbody tr th:only-of-type {\n",
       "        vertical-align: middle;\n",
       "    }\n",
       "\n",
       "    .dataframe tbody tr th {\n",
       "        vertical-align: top;\n",
       "    }\n",
       "\n",
       "    .dataframe thead th {\n",
       "        text-align: right;\n",
       "    }\n",
       "</style>\n",
       "<table border=\"1\" class=\"dataframe\">\n",
       "  <thead>\n",
       "    <tr style=\"text-align: right;\">\n",
       "      <th></th>\n",
       "      <th>The movie name</th>\n",
       "      <th>Director</th>\n",
       "      <th>Year of release</th>\n",
       "      <th>Overall gross earning</th>\n",
       "      <th>The cast</th>\n",
       "    </tr>\n",
       "  </thead>\n",
       "  <tbody>\n",
       "    <tr>\n",
       "      <th>Detail</th>\n",
       "      <td>Zindagi Na Milegi Dobara</td>\n",
       "      <td>Zoya Akhtar</td>\n",
       "      <td>15 July 2011</td>\n",
       "      <td>₹1.53 billion (US$21 million)[3]</td>\n",
       "      <td>Hrithik RoshanAbhay DeolFarhan AkhtarKatrina KaifKalki Koechlin</td>\n",
       "    </tr>\n",
       "  </tbody>\n",
       "</table>\n",
       "</div>"
      ],
      "text/plain": [
       "                   The movie name     Director Year of release  \\\n",
       "Detail  Zindagi Na Milegi Dobara   Zoya Akhtar  15 July 2011     \n",
       "\n",
       "                   Overall gross earning  \\\n",
       "Detail  ₹1.53 billion (US$21 million)[3]   \n",
       "\n",
       "                                                               The cast  \n",
       "Detail  Hrithik RoshanAbhay DeolFarhan AkhtarKatrina KaifKalki Koechlin  "
      ]
     },
     "execution_count": 181,
     "metadata": {},
     "output_type": "execute_result"
    }
   ],
   "source": [
    "Movie_detail('https://en.wikipedia.org/wiki/Zindagi_Na_Milegi_Dobara')"
   ]
  },
  {
   "cell_type": "markdown",
   "metadata": {},
   "source": [
    "## 5 Movie :Shang-Chi and the Legend of the Ten Rings"
   ]
  },
  {
   "cell_type": "code",
   "execution_count": 182,
   "metadata": {},
   "outputs": [
    {
     "name": "stdout",
     "output_type": "stream",
     "text": [
      "Shang-Chi and the Legend of the Ten Rings - Wikipedia\n"
     ]
    },
    {
     "name": "stderr",
     "output_type": "stream",
     "text": [
      "<ipython-input-177-f70fe5ad6b78>:24: FutureWarning: Passing a negative integer is deprecated in version 1.0 and will not be supported in future version. Instead, use None to not limit the column width.\n",
      "  pd.set_option('display.max_colwidth', -1)\n"
     ]
    },
    {
     "data": {
      "text/html": [
       "<div>\n",
       "<style scoped>\n",
       "    .dataframe tbody tr th:only-of-type {\n",
       "        vertical-align: middle;\n",
       "    }\n",
       "\n",
       "    .dataframe tbody tr th {\n",
       "        vertical-align: top;\n",
       "    }\n",
       "\n",
       "    .dataframe thead th {\n",
       "        text-align: right;\n",
       "    }\n",
       "</style>\n",
       "<table border=\"1\" class=\"dataframe\">\n",
       "  <thead>\n",
       "    <tr style=\"text-align: right;\">\n",
       "      <th></th>\n",
       "      <th>The movie name</th>\n",
       "      <th>Director</th>\n",
       "      <th>Year of release</th>\n",
       "      <th>Overall gross earning</th>\n",
       "      <th>The cast</th>\n",
       "    </tr>\n",
       "  </thead>\n",
       "  <tbody>\n",
       "    <tr>\n",
       "      <th>Detail</th>\n",
       "      <td>Shang-Chi and the Legend of the Ten Rings</td>\n",
       "      <td>Destin Daniel Cretton</td>\n",
       "      <td>August 16, 2021 September 3, 2021</td>\n",
       "      <td>$367.2 million[4][5]</td>\n",
       "      <td>Simu Liu Awkwafina Meng'er Zhang Fala Chen Florian Munteanu Benedict Wong Michelle Yeoh Ben Kingsley Tony Leung</td>\n",
       "    </tr>\n",
       "  </tbody>\n",
       "</table>\n",
       "</div>"
      ],
      "text/plain": [
       "                                    The movie name               Director  \\\n",
       "Detail  Shang-Chi and the Legend of the Ten Rings   Destin Daniel Cretton   \n",
       "\n",
       "                          Year of release Overall gross earning  \\\n",
       "Detail  August 16, 2021 September 3, 2021  $367.2 million[4][5]   \n",
       "\n",
       "                                                                                                               The cast  \n",
       "Detail  Simu Liu Awkwafina Meng'er Zhang Fala Chen Florian Munteanu Benedict Wong Michelle Yeoh Ben Kingsley Tony Leung  "
      ]
     },
     "execution_count": 182,
     "metadata": {},
     "output_type": "execute_result"
    }
   ],
   "source": [
    "Movie_detail('https://en.wikipedia.org/wiki/Shang-Chi_and_the_Legend_of_the_Ten_Rings')"
   ]
  },
  {
   "cell_type": "code",
   "execution_count": null,
   "metadata": {},
   "outputs": [],
   "source": []
  }
 ],
 "metadata": {
  "kernelspec": {
   "display_name": "Python 3",
   "language": "python",
   "name": "python3"
  },
  "language_info": {
   "codemirror_mode": {
    "name": "ipython",
    "version": 3
   },
   "file_extension": ".py",
   "mimetype": "text/x-python",
   "name": "python",
   "nbconvert_exporter": "python",
   "pygments_lexer": "ipython3",
   "version": "3.8.5"
  }
 },
 "nbformat": 4,
 "nbformat_minor": 4
}
